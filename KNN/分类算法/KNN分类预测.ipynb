{
 "cells": [
  {
   "cell_type": "code",
   "execution_count": 1,
   "metadata": {},
   "outputs": [],
   "source": [
    "import numpy as np\n",
    "import pandas as pd"
   ]
  },
  {
   "cell_type": "code",
   "execution_count": 2,
   "metadata": {},
   "outputs": [],
   "source": [
    "# 读取鸢尾花数据集 header 参数指定标题行 默认为0 ， 若无标题则 header = None\n",
    "data = pd.read_csv(r\"iris.csv\",header = 0)\n",
    "# 获取数据的简单说明\n",
    "# =========================\n",
    "# 显示前 n 条记录 默认 n = 5\n",
    "# data.head(10)\n",
    "# 显示末尾 n 条记录  默认 n = 5\n",
    "# data.tail()\n",
    "# 随机抽取 n 条记录 默认 n = 1 \n",
    "# data.sample(10)\n",
    "# 查看数据集记录数\n",
    "# len(data)\n",
    "# ===========================\n",
    "\n",
    "# 对文本进行格式处理\n",
    "# ============================================\n",
    "# 将类别文本映射成数值类型 \n",
    "data[\"species\"] = data[\"species\"].map({\"setosa\":0,\"virginica\":1,\"versicolor\":2 })\n",
    "# 删除不需要的列, axix 0 表示行 1 表示列 inplace 表示在原有的数据集中更新\n",
    "# 等同于 data = data.drop(\"sepal_length\",axis = 1)\n",
    "#data.drop(\"sepal_length\",axis = 1,inplace = True)\n",
    "# .any（） 表示，若有重复的记录则返回 true\n",
    "#data.duplicated().any()\n",
    "# 删除重复的记录 \n",
    "data.drop_duplicates(inplace = True)\n",
    "# 长各个类别的鸢尾花具有多少条记录\n",
    "# data[\"species\"].value_counts()\n",
    "# data.sample(10)"
   ]
  },
  {
   "cell_type": "code",
   "execution_count": 3,
   "metadata": {},
   "outputs": [],
   "source": [
    "class KNN:\n",
    "    \"\"\"使用 python 语言实现 K 近邻算法。（实现分类） \"\"\"\n",
    "    \n",
    "    def __init__(self,k):\n",
    "        \"\"\"初始化方法\n",
    "        Parameters\n",
    "        -----\n",
    "        k ; int\n",
    "            邻居的个数。\n",
    "        \"\"\"\n",
    "        self.k = k \n",
    "        \n",
    "    def fit(self, X, y):\n",
    "        \"\"\"训练样本方法（惰性学习）\n",
    "        Parameters\n",
    "        -----\n",
    "        X : 类数组类型(比如list ndarray dataframe)， 形状为：[样本数量 , 特征数量]\n",
    "            待训练的样本特征（属性）\n",
    "        y : 类数组类型， 形状为：[样本数量] \n",
    "            每个样本的目标值（标签） \n",
    "        \"\"\"\n",
    "        # 将 X 转换为 ndarray 数组类型\n",
    "        self.X = np.asarray(X)\n",
    "        self.y = np.asarray(y)\n",
    "    \n",
    "    def predict(self,X):\n",
    "        \"\"\"根据参数传递的样本，对样本数据进行预测。\n",
    "        Parameters\n",
    "        -----\n",
    "        X : 类数组类型(比如list ndarray dataframe)， 形状为：[样本数量 , 特征数量]\n",
    "            待训练的样本特征（属性）\n",
    "        Returns\n",
    "        -----\n",
    "        result : 数组类型\n",
    "            预测的结果。\n",
    "        \"\"\"\n",
    "        \n",
    "        X = np.asarray(X)\n",
    "        result = []\n",
    "        # 对 ndarray 数组进行遍历，每次取数组中的一行。\n",
    "        for x in X :\n",
    "            # 对于测试集中的每一个样本， 依次与训练集中的所有样本求欧式距离\n",
    "            # 欧式距离即 各个坐标点差的平方和开根。\n",
    "            dis = np.sqrt(np.sum((x - self.X) ** 2 , axis = 1))\n",
    "            # 返回每个元素在原数组（排序之前的数组）中的索引位置\n",
    "            # eg:  x = np.array([20,39,12,3])\n",
    "            #      x.argsort() output array([3, 2, 0, 1])\n",
    "            index = dis.argsort()\n",
    "            # 进行排序后的截断，只取前 k 个元素。（即取距离最近的 k 个元素处理）\n",
    "            index = index[:self.k]\n",
    "            # 返回数组中每个元素出现的次数（元素必须为非负的整数）\n",
    "            # count 返回值表示索引值出现的次数 eg [0,4,2,1,1] 表示 0 出现 0 次 1 出现 4 次\n",
    "            count = np.bincount(self.y[index])\n",
    "            # 返回ndarry数组中，值最大的元素对应的索引,就是我们判定的类别\n",
    "            result.append(count.argmax())\n",
    "        return np.asarray(result)\n",
    "        \n",
    "    def predictWithWeights(self,X):\n",
    "        \"\"\"根据参数传递的样本，对样本数据进行预测,并考虑权重，使用距离的倒数作为权重\n",
    "        Parameters\n",
    "        -----\n",
    "        X : 类数组类型(比如list ndarray dataframe)， 形状为：[样本数量 , 特征数量]\n",
    "            待训练的样本特征（属性）\n",
    "        Returns\n",
    "        -----\n",
    "        result : 数组类型\n",
    "            预测的结果。\n",
    "        \"\"\"\n",
    "        \n",
    "        X = np.asarray(X)\n",
    "        result = []\n",
    "        # 对 ndarray 数组进行遍历，每次取数组中的一行。\n",
    "        for x in X :\n",
    "            # 对于测试集中的每一个样本， 依次与训练集中的所有样本求欧式距离\n",
    "            # 欧式距离即 各个坐标点差的平方和开根。\n",
    "            dis = np.sqrt(np.sum((x - self.X) ** 2 , axis = 1))\n",
    "            # 返回每个元素在原数组（排序之前的数组）中的索引位置\n",
    "            # eg:  x = np.array([20,39,12,3])\n",
    "            #      x.argsort() output array([3, 2, 0, 1])\n",
    "            index = dis.argsort()\n",
    "            # 进行排序后的截断，只取前 k 个元素。（即取距离最近的 k 个元素处理）\n",
    "            index = index[:self.k]\n",
    "            # 返回数组中每个元素出现的次数（元素必须为非负的整数）使用 weights 考虑权重，为距离的倒数\n",
    "            # count 返回值表示索引值出现的次数 eg [0,4,2,1,1] 表示 0 出现 0 次 1 出现 4 次\n",
    "            count = np.bincount(self.y[index],weights = 1 / dis[index])\n",
    "            # 返回ndarry数组中，值最大的元素对应的索引,就是我们判定的类别\n",
    "            result.append(count.argmax())\n",
    "        return np.asarray(result)\n",
    "    \n",
    "        "
   ]
  },
  {
   "cell_type": "code",
   "execution_count": 4,
   "metadata": {},
   "outputs": [
    {
     "data": {
      "text/plain": [
       "21"
      ]
     },
     "metadata": {},
     "output_type": "display_data"
    },
    {
     "data": {
      "text/plain": [
       "1.0"
      ]
     },
     "metadata": {},
     "output_type": "display_data"
    }
   ],
   "source": [
    "# 提取每个类别的鸢尾花数据#\n",
    "t0 = data[data[\"species\"] == 0]\n",
    "t1 = data[data[\"species\"] == 1]\n",
    "t2 = data[data[\"species\"] == 2]\n",
    "# 设置权重\n",
    "haven = 42\n",
    "# 打乱训练集的记录条目,对每个类别的数据进行洗牌\n",
    "t0 = t0.sample(len(t0),random_state=0)\n",
    "t1 = t1.sample(len(t1),random_state=0)\n",
    "t2 = t2.sample(len(t2),random_state=0)\n",
    "# 将记录区分为训练集与数据集,按照纵向的方式，将t0-t2中前40项组合拼接\n",
    "train_X = pd.concat([t0.iloc[:haven,:-1],t1.iloc[:haven,:-1],t2.iloc[:haven,:-1]],axis = 0)\n",
    "train_y = pd.concat([t0.iloc[:haven,-1],t1.iloc[:haven,-1],t2.iloc[:haven,-1]],axis = 0)\n",
    "# 测试集 同训练集\n",
    "test_X = pd.concat([t0.iloc[haven:,:-1],t1.iloc[haven:,:-1],t2.iloc[haven:,:-1]],axis = 0)\n",
    "test_y = pd.concat([t0.iloc[haven:,-1],t1.iloc[haven:,-1],t2.iloc[haven:,-1]],axis = 0)\n",
    "# 创建 KNN 对象 ，进行训练与测试\n",
    "knn = KNN(k=3)\n",
    "# 进行训练\n",
    "knn.fit(train_X,train_y)\n",
    "# 进行测试，获得测试结果\n",
    "result = knn.predict(test_X)\n",
    "# display(result)\n",
    "# display(test_y)\n",
    "\n",
    "display(np.sum(result == test_y))\n",
    "display(np.sum(result == test_y) / len(result))"
   ]
  },
  {
   "cell_type": "code",
   "execution_count": 5,
   "metadata": {},
   "outputs": [
    {
     "data": {
      "text/plain": [
       "21"
      ]
     },
     "metadata": {},
     "output_type": "display_data"
    },
    {
     "data": {
      "text/plain": [
       "1.0"
      ]
     },
     "metadata": {},
     "output_type": "display_data"
    }
   ],
   "source": [
    "# 考虑权重，进行测试\n",
    "result2 = knn.predictWithWeights(test_X)\n",
    "display(np.sum(result2 == test_y))\n",
    "display(np.sum(result2 == test_y) / len(result))"
   ]
  },
  {
   "cell_type": "code",
   "execution_count": 6,
   "metadata": {},
   "outputs": [],
   "source": [
    "import matplotlib as mpl\n",
    "import matplotlib.pyplot as plt\n",
    "%matplotlib inline"
   ]
  },
  {
   "cell_type": "code",
   "execution_count": 7,
   "metadata": {},
   "outputs": [],
   "source": [
    "#from matplotlib.font_manager import * \n",
    "#myfont = FontProperties(fname='/usr/local/lib/python3.5/dist-packages/matplotlib/mpl-data/fonts/ttf/wqy-microhei.ttf')  \n",
    "# 默认情况下 matplotlib 不支持中文显示，设置任意支持中文的字体即可\n",
    "mpl.rcParams['font.sans-serif'] = 'WenQuanYi Micro Hei'\n",
    "\n",
    "# 设置中文字体中正常显示负号（-）。即不适用 unicode 中的 “-” 展示\n",
    "mpl.rcParams[\"axes.unicode_minus\"] = False"
   ]
  },
  {
   "cell_type": "code",
   "execution_count": 8,
   "metadata": {
    "scrolled": false
   },
   "outputs": [
    {
     "data": {
      "image/png": "[encoded data removed]",
      "text/plain": [
       "<Figure size 720x720 with 1 Axes>"
      ]
     },
     "metadata": {
      "needs_background": "light"
     },
     "output_type": "display_data"
    }
   ],
   "source": [
    "# \"setosa\":0,\"virginica\":1,\"versicolor\":2 \n",
    "# 设置画布大小\n",
    "plt.figure(figsize=(10,10))\n",
    "# 绘制训练集中的数据\n",
    "plt.scatter(x = t0[\"sepal_length\"][:haven],y = t0[\"petal_length\"][:haven],color = \"r\" , label = \"setosa\")\n",
    "plt.scatter(x = t1[\"sepal_length\"][:haven],y = t1[\"petal_length\"][:haven],color = \"g\" , label = \"virginica\")\n",
    "plt.scatter(x = t2[\"sepal_length\"][:haven],y = t2[\"petal_length\"][:haven],color = \"b\" , label = \"versicolor\")\n",
    "\n",
    "# 绘制测试集中的数据\n",
    "# 获取所有预测正确的值\n",
    "right = test_X[result == test_y]\n",
    "# 获取所有预测错误的值\n",
    "wrong = test_X[result != test_y]\n",
    "plt.scatter(x = right[\"sepal_length\"],y = right[\"petal_length\"],color = \"c\" ,marker = \"x\",label = \"命中\")\n",
    "plt.scatter(x = wrong[\"sepal_length\"],y = wrong[\"petal_length\"],color = \"m\" ,marker = \"<\",label = \"未命中\")\n",
    "# 设置坐标轴\n",
    "plt.xlabel(u\"花萼长度\")\n",
    "plt.ylabel(u\"花瓣长度\")\n",
    "plt.title(u\"KNN 分类\")\n",
    "# 设置图例\n",
    "plt.legend(loc=\"best\")\n",
    "plt.show()\n",
    "\n"
   ]
  }
 ],
 "metadata": {
  "kernelspec": {
   "display_name": "Python 3",
   "language": "python",
   "name": "python3"
  },
  "language_info": {
   "codemirror_mode": {
    "name": "ipython",
    "version": 3
   },
   "file_extension": ".py",
   "mimetype": "text/x-python",
   "name": "python",
   "nbconvert_exporter": "python",
   "pygments_lexer": "ipython3",
   "version": "3.5.2"
  }
 },
 "nbformat": 4,
 "nbformat_minor": 2
}
